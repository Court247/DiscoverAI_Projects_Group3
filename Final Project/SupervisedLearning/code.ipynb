{
    "metadata": {
        "kernelspec": {
            "name": "python3",
            "display_name": "Python 3 (ipykernel)",
            "language": "python"
        }
    },
    "nbformat": 4,
    "nbformat_minor": 2,
    "cells": [
        {
            "attachments": {},
            "cell_type": "markdown",
            "metadata": {},
            "source": [
                "# **Self Define Supervised Learning Problem**"
            ]
        },
        {
            "attachments": {},
            "cell_type": "markdown",
            "metadata": {},
            "source": [
                "Please use this notebook to work on your own supervised learning problem, if you choose to identify one yourself.\n",
                "\n",
                "Please follow the guidance below to provide this minimum required information for the lab."
            ]
        },
        {
            "attachments": {},
            "cell_type": "markdown",
            "metadata": {},
            "source": [
                "**About the data set**"
            ]
        },
        {
            "attachments": {},
            "cell_type": "markdown",
            "metadata": {},
            "source": [
                "In the text box below, please describe the problem that you have selected."
            ]
        },
        {
            "attachments": {},
            "cell_type": "markdown",
            "metadata": {},
            "source": [
                "The data I chose is a list of COVID-19 deaths by sex and age for supervised learning"
            ]
        },
        {
            "attachments": {},
            "cell_type": "markdown",
            "metadata": {},
            "source": [
                "**Import libraries**"
            ]
        },
        {
            "cell_type": "code",
            "execution_count": 51,
            "metadata": {},
            "outputs": [],
            "source": [
                "import numpy as np # linear algebra\n",
                "import pandas as pd # data processing, CSV file I/O (e.g. pd.read_csv)\n",
                "\n",
                "# Add all needed libraries to work on your data set\n",
                "covid = pd.read_csv('SupervisedLearning/Custom/COVIDCount.csv')"
            ]
        },
        {
            "attachments": {},
            "cell_type": "markdown",
            "metadata": {},
            "source": [
                "# Acquired data"
            ]
        },
        {
            "attachments": {},
            "cell_type": "markdown",
            "metadata": {},
            "source": [
                "Use pandas to read in the data set.\n",
                "\n",
                "Note: Make sure that the data set's csv file is saved into SupervisedLearning/Custom directory."
            ]
        },
        {
            "attachments": {},
            "cell_type": "markdown",
            "metadata": {},
            "source": [
                "# Inspect data"
            ]
        },
        {
            "attachments": {},
            "cell_type": "markdown",
            "metadata": {},
            "source": [
                "Create coding blocks below to inspect the data."
            ]
        },
        {
            "cell_type": "code",
            "execution_count": 52,
            "metadata": {},
            "outputs": [
                {
                    "name": "stdout",
                    "output_type": "stream",
                    "text": "(194, 5)\n970\n"
                }
            ],
            "source": [
                "#TODO: Write code to inspect the shape of the data frame\n",
                "size = covid.size\n",
                "dataShape = covid.shape\n",
                "print(dataShape)\n",
                "print(dataShape[0]* dataShape[1])"
            ]
        },
        {
            "cell_type": "code",
            "execution_count": 53,
            "metadata": {},
            "outputs": [
                {
                    "data": {
                        "text/html": "\u003cdiv\u003e\n\u003cstyle scoped\u003e\n    .dataframe tbody tr th:only-of-type {\n        vertical-align: middle;\n    }\n\n    .dataframe tbody tr th {\n        vertical-align: top;\n    }\n\n    .dataframe thead th {\n        text-align: right;\n    }\n\u003c/style\u003e\n\u003ctable border=\"1\" class=\"dataframe\"\u003e\n  \u003cthead\u003e\n    \u003ctr style=\"text-align: right;\"\u003e\n      \u003cth\u003e\u003c/th\u003e\n      \u003cth\u003eSex\u003c/th\u003e\n      \u003cth\u003eAge Years\u003c/th\u003e\n      \u003cth\u003eTotal deaths\u003c/th\u003e\n      \u003cth\u003eCOVID-19 Deaths\u003c/th\u003e\n      \u003cth\u003eEffected\\n\u003c/th\u003e\n    \u003c/tr\u003e\n  \u003c/thead\u003e\n  \u003ctbody\u003e\n    \u003ctr\u003e\n      \u003cth\u003e0\u003c/th\u003e\n      \u003ctd\u003e1\u003c/td\u003e\n      \u003ctd\u003e0.0\u003c/td\u003e\n      \u003ctd\u003e17260\u003c/td\u003e\n      \u003ctd\u003e88\u003c/td\u003e\n      \u003ctd\u003eFalse\u003c/td\u003e\n    \u003c/tr\u003e\n    \u003ctr\u003e\n      \u003cth\u003e1\u003c/th\u003e\n      \u003ctd\u003e1\u003c/td\u003e\n      \u003ctd\u003e0.1\u003c/td\u003e\n      \u003ctd\u003e17260\u003c/td\u003e\n      \u003ctd\u003e88\u003c/td\u003e\n      \u003ctd\u003eFalse\u003c/td\u003e\n    \u003c/tr\u003e\n    \u003ctr\u003e\n      \u003cth\u003e2\u003c/th\u003e\n      \u003ctd\u003e1\u003c/td\u003e\n      \u003ctd\u003e0.2\u003c/td\u003e\n      \u003ctd\u003e17260\u003c/td\u003e\n      \u003ctd\u003e88\u003c/td\u003e\n      \u003ctd\u003eFalse\u003c/td\u003e\n    \u003c/tr\u003e\n    \u003ctr\u003e\n      \u003cth\u003e3\u003c/th\u003e\n      \u003ctd\u003e1\u003c/td\u003e\n      \u003ctd\u003e0.3\u003c/td\u003e\n      \u003ctd\u003e17260\u003c/td\u003e\n      \u003ctd\u003e88\u003c/td\u003e\n      \u003ctd\u003eFalse\u003c/td\u003e\n    \u003c/tr\u003e\n    \u003ctr\u003e\n      \u003cth\u003e4\u003c/th\u003e\n      \u003ctd\u003e1\u003c/td\u003e\n      \u003ctd\u003e0.4\u003c/td\u003e\n      \u003ctd\u003e17260\u003c/td\u003e\n      \u003ctd\u003e88\u003c/td\u003e\n      \u003ctd\u003eFalse\u003c/td\u003e\n    \u003c/tr\u003e\n    \u003ctr\u003e\n      \u003cth\u003e...\u003c/th\u003e\n      \u003ctd\u003e...\u003c/td\u003e\n      \u003ctd\u003e...\u003c/td\u003e\n      \u003ctd\u003e...\u003c/td\u003e\n      \u003ctd\u003e...\u003c/td\u003e\n      \u003ctd\u003e...\u003c/td\u003e\n    \u003c/tr\u003e\n    \u003ctr\u003e\n      \u003cth\u003e189\u003c/th\u003e\n      \u003ctd\u003e0\u003c/td\u003e\n      \u003ctd\u003e83.0\u003c/td\u003e\n      \u003ctd\u003e94033\u003c/td\u003e\n      \u003ctd\u003e13700\u003c/td\u003e\n      \u003ctd\u003eTrue\u003c/td\u003e\n    \u003c/tr\u003e\n    \u003ctr\u003e\n      \u003cth\u003e190\u003c/th\u003e\n      \u003ctd\u003e1\u003c/td\u003e\n      \u003ctd\u003e84.0\u003c/td\u003e\n      \u003ctd\u003e97271\u003c/td\u003e\n      \u003ctd\u003e11655\u003c/td\u003e\n      \u003ctd\u003eTrue\u003c/td\u003e\n    \u003c/tr\u003e\n    \u003ctr\u003e\n      \u003cth\u003e191\u003c/th\u003e\n      \u003ctd\u003e0\u003c/td\u003e\n      \u003ctd\u003e84.0\u003c/td\u003e\n      \u003ctd\u003e92340\u003c/td\u003e\n      \u003ctd\u003e13067\u003c/td\u003e\n      \u003ctd\u003eTrue\u003c/td\u003e\n    \u003c/tr\u003e\n    \u003ctr\u003e\n      \u003cth\u003e192\u003c/th\u003e\n      \u003ctd\u003e1\u003c/td\u003e\n      \u003ctd\u003e85.0\u003c/td\u003e\n      \u003ctd\u003e1301317\u003c/td\u003e\n      \u003ctd\u003e140129\u003c/td\u003e\n      \u003ctd\u003eTrue\u003c/td\u003e\n    \u003c/tr\u003e\n    \u003ctr\u003e\n      \u003cth\u003e193\u003c/th\u003e\n      \u003ctd\u003e0\u003c/td\u003e\n      \u003ctd\u003e85.0\u003c/td\u003e\n      \u003ctd\u003e848799\u003c/td\u003e\n      \u003ctd\u003e109778\u003c/td\u003e\n      \u003ctd\u003eTrue\u003c/td\u003e\n    \u003c/tr\u003e\n  \u003c/tbody\u003e\n\u003c/table\u003e\n\u003cp\u003e194 rows × 5 columns\u003c/p\u003e\n\u003c/div\u003e",
                        "text/plain": "     Sex  Age Years  Total deaths  COVID-19 Deaths  Effected\\n\n0      1        0.0         17260               88       False\n1      1        0.1         17260               88       False\n2      1        0.2         17260               88       False\n3      1        0.3         17260               88       False\n4      1        0.4         17260               88       False\n..   ...        ...           ...              ...         ...\n189    0       83.0         94033            13700        True\n190    1       84.0         97271            11655        True\n191    0       84.0         92340            13067        True\n192    1       85.0       1301317           140129        True\n193    0       85.0        848799           109778        True\n\n[194 rows x 5 columns]"
                    },
                    "execution_count": 53,
                    "metadata": {},
                    "output_type": "execute_result"
                }
            ],
            "source": [
                "#TODO: Write code to display information about the data frame\n",
                "covid"
            ]
        },
        {
            "cell_type": "code",
            "execution_count": 54,
            "metadata": {},
            "outputs": [
                {
                    "data": {
                        "text/html": "\u003cdiv\u003e\n\u003cstyle scoped\u003e\n    .dataframe tbody tr th:only-of-type {\n        vertical-align: middle;\n    }\n\n    .dataframe tbody tr th {\n        vertical-align: top;\n    }\n\n    .dataframe thead th {\n        text-align: right;\n    }\n\u003c/style\u003e\n\u003ctable border=\"1\" class=\"dataframe\"\u003e\n  \u003cthead\u003e\n    \u003ctr style=\"text-align: right;\"\u003e\n      \u003cth\u003e\u003c/th\u003e\n      \u003cth\u003eSex\u003c/th\u003e\n      \u003cth\u003eAge Years\u003c/th\u003e\n      \u003cth\u003eTotal deaths\u003c/th\u003e\n      \u003cth\u003eCOVID-19 Deaths\u003c/th\u003e\n    \u003c/tr\u003e\n  \u003c/thead\u003e\n  \u003ctbody\u003e\n    \u003ctr\u003e\n      \u003cth\u003ecount\u003c/th\u003e\n      \u003ctd\u003e194.000000\u003c/td\u003e\n      \u003ctd\u003e194.000000\u003c/td\u003e\n      \u003ctd\u003e1.940000e+02\u003c/td\u003e\n      \u003ctd\u003e194.000000\u003c/td\u003e\n    \u003c/tr\u003e\n    \u003ctr\u003e\n      \u003cth\u003emean\u003c/th\u003e\n      \u003ctd\u003e0.500000\u003c/td\u003e\n      \u003ctd\u003e37.694175\u003c/td\u003e\n      \u003ctd\u003e3.984008e+04\u003c/td\u003e\n      \u003ctd\u003e5028.283505\u003c/td\u003e\n    \u003c/tr\u003e\n    \u003ctr\u003e\n      \u003cth\u003estd\u003c/th\u003e\n      \u003ctd\u003e0.501294\u003c/td\u003e\n      \u003ctd\u003e27.031509\u003c/td\u003e\n      \u003ctd\u003e1.131730e+05\u003c/td\u003e\n      \u003ctd\u003e13279.273382\u003c/td\u003e\n    \u003c/tr\u003e\n    \u003ctr\u003e\n      \u003cth\u003emin\u003c/th\u003e\n      \u003ctd\u003e0.000000\u003c/td\u003e\n      \u003ctd\u003e0.000000\u003c/td\u003e\n      \u003ctd\u003e3.750000e+02\u003c/td\u003e\n      \u003ctd\u003e8.000000\u003c/td\u003e\n    \u003c/tr\u003e\n    \u003ctr\u003e\n      \u003cth\u003e25%\u003c/th\u003e\n      \u003ctd\u003e0.000000\u003c/td\u003e\n      \u003ctd\u003e13.000000\u003c/td\u003e\n      \u003ctd\u003e2.715250e+03\u003c/td\u003e\n      \u003ctd\u003e88.000000\u003c/td\u003e\n    \u003c/tr\u003e\n    \u003ctr\u003e\n      \u003cth\u003e50%\u003c/th\u003e\n      \u003ctd\u003e0.500000\u003c/td\u003e\n      \u003ctd\u003e37.000000\u003c/td\u003e\n      \u003ctd\u003e1.521500e+04\u003c/td\u003e\n      \u003ctd\u003e1060.000000\u003c/td\u003e\n    \u003c/tr\u003e\n    \u003ctr\u003e\n      \u003cth\u003e75%\u003c/th\u003e\n      \u003ctd\u003e1.000000\u003c/td\u003e\n      \u003ctd\u003e61.000000\u003c/td\u003e\n      \u003ctd\u003e5.255275e+04\u003c/td\u003e\n      \u003ctd\u003e7675.000000\u003c/td\u003e\n    \u003c/tr\u003e\n    \u003ctr\u003e\n      \u003cth\u003emax\u003c/th\u003e\n      \u003ctd\u003e1.000000\u003c/td\u003e\n      \u003ctd\u003e85.000000\u003c/td\u003e\n      \u003ctd\u003e1.301317e+06\u003c/td\u003e\n      \u003ctd\u003e140129.000000\u003c/td\u003e\n    \u003c/tr\u003e\n  \u003c/tbody\u003e\n\u003c/table\u003e\n\u003c/div\u003e",
                        "text/plain": "              Sex   Age Years  Total deaths  COVID-19 Deaths\ncount  194.000000  194.000000  1.940000e+02       194.000000\nmean     0.500000   37.694175  3.984008e+04      5028.283505\nstd      0.501294   27.031509  1.131730e+05     13279.273382\nmin      0.000000    0.000000  3.750000e+02         8.000000\n25%      0.000000   13.000000  2.715250e+03        88.000000\n50%      0.500000   37.000000  1.521500e+04      1060.000000\n75%      1.000000   61.000000  5.255275e+04      7675.000000\nmax      1.000000   85.000000  1.301317e+06    140129.000000"
                    },
                    "execution_count": 54,
                    "metadata": {},
                    "output_type": "execute_result"
                }
            ],
            "source": [
                "#TODO: Write code to display statistics about the data frame\n",
                "covid.describe()"
            ]
        },
        {
            "attachments": {},
            "cell_type": "markdown",
            "metadata": {},
            "source": [
                "# Clean data"
            ]
        },
        {
            "attachments": {},
            "cell_type": "markdown",
            "metadata": {},
            "source": [
                "Create coding blocks below to clean and prepare the data. At the minimum, make sure to get rid of rows with missing values, and replace any categorical variables."
            ]
        },
        {
            "cell_type": "code",
            "execution_count": 55,
            "metadata": {},
            "outputs": [
                {
                    "data": {
                        "text/html": "\u003cdiv\u003e\n\u003cstyle scoped\u003e\n    .dataframe tbody tr th:only-of-type {\n        vertical-align: middle;\n    }\n\n    .dataframe tbody tr th {\n        vertical-align: top;\n    }\n\n    .dataframe thead th {\n        text-align: right;\n    }\n\u003c/style\u003e\n\u003ctable border=\"1\" class=\"dataframe\"\u003e\n  \u003cthead\u003e\n    \u003ctr style=\"text-align: right;\"\u003e\n      \u003cth\u003e\u003c/th\u003e\n      \u003cth\u003eSex\u003c/th\u003e\n      \u003cth\u003eAge Years\u003c/th\u003e\n    \u003c/tr\u003e\n  \u003c/thead\u003e\n  \u003ctbody\u003e\n    \u003ctr\u003e\n      \u003cth\u003e0\u003c/th\u003e\n      \u003ctd\u003e1\u003c/td\u003e\n      \u003ctd\u003e0.0\u003c/td\u003e\n    \u003c/tr\u003e\n    \u003ctr\u003e\n      \u003cth\u003e1\u003c/th\u003e\n      \u003ctd\u003e1\u003c/td\u003e\n      \u003ctd\u003e0.1\u003c/td\u003e\n    \u003c/tr\u003e\n    \u003ctr\u003e\n      \u003cth\u003e2\u003c/th\u003e\n      \u003ctd\u003e1\u003c/td\u003e\n      \u003ctd\u003e0.2\u003c/td\u003e\n    \u003c/tr\u003e\n    \u003ctr\u003e\n      \u003cth\u003e3\u003c/th\u003e\n      \u003ctd\u003e1\u003c/td\u003e\n      \u003ctd\u003e0.3\u003c/td\u003e\n    \u003c/tr\u003e\n    \u003ctr\u003e\n      \u003cth\u003e4\u003c/th\u003e\n      \u003ctd\u003e1\u003c/td\u003e\n      \u003ctd\u003e0.4\u003c/td\u003e\n    \u003c/tr\u003e\n    \u003ctr\u003e\n      \u003cth\u003e...\u003c/th\u003e\n      \u003ctd\u003e...\u003c/td\u003e\n      \u003ctd\u003e...\u003c/td\u003e\n    \u003c/tr\u003e\n    \u003ctr\u003e\n      \u003cth\u003e189\u003c/th\u003e\n      \u003ctd\u003e0\u003c/td\u003e\n      \u003ctd\u003e83.0\u003c/td\u003e\n    \u003c/tr\u003e\n    \u003ctr\u003e\n      \u003cth\u003e190\u003c/th\u003e\n      \u003ctd\u003e1\u003c/td\u003e\n      \u003ctd\u003e84.0\u003c/td\u003e\n    \u003c/tr\u003e\n    \u003ctr\u003e\n      \u003cth\u003e191\u003c/th\u003e\n      \u003ctd\u003e0\u003c/td\u003e\n      \u003ctd\u003e84.0\u003c/td\u003e\n    \u003c/tr\u003e\n    \u003ctr\u003e\n      \u003cth\u003e192\u003c/th\u003e\n      \u003ctd\u003e1\u003c/td\u003e\n      \u003ctd\u003e85.0\u003c/td\u003e\n    \u003c/tr\u003e\n    \u003ctr\u003e\n      \u003cth\u003e193\u003c/th\u003e\n      \u003ctd\u003e0\u003c/td\u003e\n      \u003ctd\u003e85.0\u003c/td\u003e\n    \u003c/tr\u003e\n  \u003c/tbody\u003e\n\u003c/table\u003e\n\u003cp\u003e194 rows × 2 columns\u003c/p\u003e\n\u003c/div\u003e",
                        "text/plain": "     Sex  Age Years\n0      1        0.0\n1      1        0.1\n2      1        0.2\n3      1        0.3\n4      1        0.4\n..   ...        ...\n189    0       83.0\n190    1       84.0\n191    0       84.0\n192    1       85.0\n193    0       85.0\n\n[194 rows x 2 columns]"
                    },
                    "execution_count": 55,
                    "metadata": {},
                    "output_type": "execute_result"
                }
            ],
            "source": [
                "#The data set does not have any null values do it doesn't need cleaning.\n",
                "\n",
                "cPrep = covid.drop(columns = ['Effected\\n','Total deaths', 'COVID-19 Deaths' ])\n",
                "\n",
                "cPrep"
            ]
        },
        {
            "cell_type": "code",
            "execution_count": 56,
            "metadata": {},
            "outputs": [
                {
                    "data": {
                        "text/plain": "0      False\n1      False\n2      False\n3      False\n4      False\n       ...  \n189     True\n190     True\n191     True\n192     True\n193     True\nName: Effected\\n, Length: 194, dtype: bool"
                    },
                    "execution_count": 56,
                    "metadata": {},
                    "output_type": "execute_result"
                }
            ],
            "source": [
                "from sklearn.tree import DecisionTreeClassifier\n",
                "\n",
                "#Data Prep\n",
                "y = covid['Effected\\n']\n",
                "\n",
                "y"
            ]
        },
        {
            "attachments": {},
            "cell_type": "markdown",
            "metadata": {},
            "source": [
                "Earn Your Wings"
            ]
        },
        {
            "attachments": {},
            "cell_type": "markdown",
            "metadata": {},
            "source": [
                "Use a decision tree classifier on the cleaned data set to predict y for the given data. Report the accuracy score for 30 runs. Add comments in your code to explain each step that you take in your implementation."
            ]
        },
        {
            "cell_type": "code",
            "execution_count": 57,
            "metadata": {},
            "outputs": [
                {
                    "name": "stderr",
                    "output_type": "stream",
                    "text": "/usr/lib/python3.10/site-packages/sklearn/base.py:450: UserWarning: X does not have valid feature names, but DecisionTreeClassifier was fitted with feature names\n  warnings.warn(\n"
                },
                {
                    "data": {
                        "text/plain": "array([False,  True,  True])"
                    },
                    "execution_count": 57,
                    "metadata": {},
                    "output_type": "execute_result"
                }
            ],
            "source": [
                "# Importing the DecisionTreeClassifier package from sklearn\n",
                "from sklearn.tree import DecisionTreeClassifier\n",
                "\n",
                "# Define the decision tree classifier model\n",
                "model = DecisionTreeClassifier()\n",
                "\n",
                "# Fit the model with X and y\n",
                "model.fit(cPrep, y)\n",
                "\n",
                "predictCovid = model.predict([[1,21], [0,76], [1,85]])\n",
                "\n",
                "predictCovid"
            ]
        },
        {
            "cell_type": "code",
            "execution_count": 58,
            "metadata": {},
            "outputs": [],
            "source": [
                "from sklearn.model_selection import train_test_split\n",
                "from sklearn.metrics import accuracy_score\n",
                "l = []\n",
                "\n",
                "#execute 30 runs\n",
                "for i in range(30):\n",
                "    #training 80% of the data set\n",
                "    cPrep_train, cPrep_test, y_train, y_test = train_test_split(cPrep, y, test_size=0.2)\n",
                "\n",
                "    #call the decision tree\n",
                "    model = DecisionTreeClassifier()\n",
                "\n",
                "    #fit the model\n",
                "    model.fit(cPrep_train, y_train)\n",
                "\n",
                "\n",
                "    #predict the testing set which is cPrep_test\n",
                "    predictCovid  = model.predict(cPrep_test)\n",
                "\n",
                "    #compute the accuracy score\n",
                "    score = accuracy_score(y_test, predictCovid)\n",
                "\n",
                "    #add the accuracy scores for each run into list\n",
                "    l.append(score)\n",
                "#return list\n",
                "l"
            ]
        },
        {
            "cell_type": "code",
            "execution_count": 60,
            "metadata": {},
            "outputs": [
                {
                    "data": {
                        "text/plain": "['COVIDCount.joblib']"
                    },
                    "execution_count": 60,
                    "metadata": {},
                    "output_type": "execute_result"
                }
            ],
            "source": [
                "#save the model\n",
                "import joblib\n",
                "\n",
                "cPrep = covid.drop(columns = ['Effected\\n','Total deaths', 'COVID-19 Deaths' ])\n",
                "y = covid['Effected\\n']\n",
                "\n",
                "model = DecisionTreeClassifier()\n",
                "\n",
                "model.fit(cPrep, y)\n",
                "\n",
                "joblib.dump(model, \"COVIDCount.joblib\")\n",
                "\n",
                ""
            ]
        }
    ]
}
